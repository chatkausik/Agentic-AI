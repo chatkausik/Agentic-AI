{
 "cells": [
  {
   "cell_type": "code",
   "execution_count": 1,
   "id": "3aaeb639",
   "metadata": {},
   "outputs": [
    {
     "name": "stderr",
     "output_type": "stream",
     "text": [
      "USER_AGENT environment variable not set, consider setting it to identify your requests.\n",
      "/Users/kausik/Desktop/Agentic-AI/venv/lib/python3.12/site-packages/IPython/core/interactiveshell.py:3672: LangChainDeprecationWarning: As of langchain-core 0.3.0, LangChain uses pydantic v2 internally. The langchain_core.pydantic_v1 module was a compatibility shim for pydantic v1, and should no longer be used. Please update the code to import from Pydantic directly.\n",
      "\n",
      "For example, replace imports like: `from langchain_core.pydantic_v1 import BaseModel`\n",
      "with: `from pydantic import BaseModel`\n",
      "or the v1 compatibility namespace if you are working in a code base that has not been fully upgraded to pydantic 2 yet. \tfrom pydantic.v1 import BaseModel\n",
      "\n",
      "  exec(code_obj, self.user_global_ns, self.user_ns)\n"
     ]
    },
    {
     "data": {
      "text/plain": [
       "True"
      ]
     },
     "execution_count": 1,
     "metadata": {},
     "output_type": "execute_result"
    }
   ],
   "source": [
    "from dotenv import load_dotenv\n",
    "import os\n",
    "import sys\n",
    "from langchain_openai import ChatOpenAI\n",
    "from langchain_core.prompts import ChatPromptTemplate\n",
    "from langchain_core.messages import HumanMessage\n",
    "from langchain_core.output_parsers import StrOutputParser\n",
    "from langchain_core.tools import Tool\n",
    "from langchain_openai import OpenAIEmbeddings\n",
    "from langchain_community.document_loaders import WebBaseLoader\n",
    "from langchain_text_splitters import RecursiveCharacterTextSplitter \n",
    "from langchain_community.vectorstores import Chroma\n",
    "from langchain.tools.retriever import create_retriever_tool\n",
    "from langgraph.prebuilt import ToolNode\n",
    "from typing import Annotated,Sequence, TypedDict\n",
    "from langchain_core.messages import BaseMessage\n",
    "from langgraph.graph.message import add_messages\n",
    "from langchain_core.prompts import PromptTemplate\n",
    "from langchain_core.pydantic_v1 import BaseModel, Field\n",
    "from typing import Literal\n",
    "from langgraph.graph import END, StateGraph, START\n",
    "from langgraph.prebuilt import tools_condition\n",
    "\n",
    "import warnings\n",
    "warnings.filterwarnings(\"ignore\")\n",
    "\n",
    "load_dotenv()\n",
    "\n"
   ]
  },
  {
   "cell_type": "code",
   "execution_count": 2,
   "id": "51bbc153",
   "metadata": {},
   "outputs": [],
   "source": [
    "llm = ChatOpenAI()\n",
    "#llm.invoke(\"hello how are you my firend?\")\n",
    "embeddings = OpenAIEmbeddings(\n",
    "    model=\"text-embedding-3-large\"\n",
    ")\n",
    "\n",
    "#embeddings.embed_query(\"hello how are you my firend?\")\n",
    "#len(embeddings.embed_query(\"hello how are you my firend?\"))\n"
   ]
  },
  {
   "cell_type": "code",
   "execution_count": 3,
   "id": "184cca50",
   "metadata": {},
   "outputs": [
    {
     "name": "stdout",
     "output_type": "stream",
     "text": [
      "Number of documents: 287\n"
     ]
    }
   ],
   "source": [
    "urls=[\n",
    "    \"https://lilianweng.github.io/posts/2023-06-23-agent/\",\n",
    "    \"https://lilianweng.github.io/posts/2023-03-15-prompt-engineering/\",\n",
    "]\n",
    "\n",
    "docs=[WebBaseLoader(url).load() for url in urls]\n",
    "docs_list=[item for sublist in docs for item in sublist]\n",
    "text_splitter=RecursiveCharacterTextSplitter.from_tiktoken_encoder(chunk_size=100,chunk_overlap=25) \n",
    "doc_splits=text_splitter.split_documents(docs_list)\n",
    "print(f\"Number of documents: {len(doc_splits)}\")"
   ]
  },
  {
   "cell_type": "code",
   "execution_count": 4,
   "id": "b9d9fe2b",
   "metadata": {},
   "outputs": [],
   "source": [
    "vectorstore=Chroma.from_documents(\n",
    "    documents=doc_splits,\n",
    "    collection_name=\"rag-chrome\",\n",
    "    embedding=embeddings\n",
    "    \n",
    ")\n",
    "retriever=vectorstore.as_retriever()\n",
    "#retriever.invoke(\"what is agent and prompt?\")"
   ]
  },
  {
   "cell_type": "code",
   "execution_count": 5,
   "id": "7f915202",
   "metadata": {},
   "outputs": [],
   "source": [
    "retriever_tool=create_retriever_tool(\n",
    "    retriever,\n",
    "    \"retriever_blog_post\",\n",
    "    \"Search and return information about Lilian Weng blog posts on LLM agents, prompt engineering, and adversarial attacks on LLMs.You are a specialized assistant. Use the 'retriever_tool' **only** when the query explicitly relates to LangChain blog data. For all other queries, respond directly without using any tool. For simple queries like 'hi', 'hello', or 'how are you', provide a normal response.\",\n",
    "    )\n",
    "\n",
    "tools=[retriever_tool]\n",
    "retriever_node=ToolNode(tools)"
   ]
  },
  {
   "cell_type": "code",
   "execution_count": 6,
   "id": "55db7be7",
   "metadata": {},
   "outputs": [],
   "source": [
    "class AgentState(TypedDict):\n",
    "    messages: Annotated[Sequence[BaseMessage], add_messages]"
   ]
  },
  {
   "cell_type": "code",
   "execution_count": null,
   "id": "ffc308ae",
   "metadata": {},
   "outputs": [],
   "source": [
    "# def LLM_Decision_Maker(state:AgentState):\n",
    "#     print(\"----CALL LLM_DECISION_MAKE----\")\n",
    "#     message=state[\"messages\"]\n",
    "    \n",
    "#     if len(message)>1:\n",
    "#         last_message=message[-1]\n",
    "#         question=last_message.content\n",
    "        \n",
    "#         prompt=PromptTemplate(\n",
    "#         template=\"\"\"You are a helpful assistant whatever question has been asked to find out that in the given question and answer.\n",
    "#                         Here is the question:{question}\n",
    "#                         \"\"\",\n",
    "#                         input_variables=[\"question\"]\n",
    "#                         )\n",
    "#         chain=prompt | llm\n",
    "#         response=chain.invoke({\"question\":question})\n",
    "#         return {\"messages\":[response]}\n",
    "#     else:\n",
    "#         llm_with_tool=llm.bind_tools(tools)\n",
    "#         response=llm_with_tool.invoke(message)\n",
    "#         return {\"messages\":[response]}"
   ]
  },
  {
   "cell_type": "code",
   "execution_count": null,
   "id": "94c9b7cf",
   "metadata": {},
   "outputs": [],
   "source": [
    "llm"
   ]
  },
  {
   "cell_type": "code",
   "execution_count": null,
   "id": "bba10d24",
   "metadata": {},
   "outputs": [],
   "source": [
    "\n",
    "tools"
   ]
  },
  {
   "cell_type": "code",
   "execution_count": 16,
   "id": "2433b058",
   "metadata": {},
   "outputs": [
    {
     "name": "stdout",
     "output_type": "stream",
     "text": [
      "----LLM_WITH_TOOL----\n",
      "content='' additional_kwargs={'tool_calls': [{'id': 'call_nVHMV2Tpu6CdDcW42g44urIr', 'function': {'arguments': '{\"query\": \"LLM Powered Autonomous Agents\"}', 'name': 'retriever_blog_post'}, 'type': 'function'}, {'id': 'call_Wqj6v5F9sg8inHUQxwQt44AI', 'function': {'arguments': '{\"query\": \"planning and reflection in LLM Powered Autonomous Agents\"}', 'name': 'retriever_blog_post'}, 'type': 'function'}, {'id': 'call_w2mX8O5JwItPAH6seW2cD4TV', 'function': {'arguments': '{\"query\": \"prompt engineering in LLM Powered Autonomous Agents\"}', 'name': 'retriever_blog_post'}, 'type': 'function'}], 'refusal': None} response_metadata={'token_usage': {'completion_tokens': 86, 'prompt_tokens': 163, 'total_tokens': 249, 'completion_tokens_details': {'accepted_prediction_tokens': 0, 'audio_tokens': 0, 'reasoning_tokens': 0, 'rejected_prediction_tokens': 0}, 'prompt_tokens_details': {'audio_tokens': 0, 'cached_tokens': 0}}, 'model_name': 'gpt-3.5-turbo-0125', 'system_fingerprint': None, 'id': 'chatcmpl-Bl0htgKpyOCMURKQpxWdlO7lnwOwV', 'service_tier': 'default', 'finish_reason': 'tool_calls', 'logprobs': None} id='run--d2c4b6b1-f6ba-4559-aaf8-3080a511cf41-0' tool_calls=[{'name': 'retriever_blog_post', 'args': {'query': 'LLM Powered Autonomous Agents'}, 'id': 'call_nVHMV2Tpu6CdDcW42g44urIr', 'type': 'tool_call'}, {'name': 'retriever_blog_post', 'args': {'query': 'planning and reflection in LLM Powered Autonomous Agents'}, 'id': 'call_Wqj6v5F9sg8inHUQxwQt44AI', 'type': 'tool_call'}, {'name': 'retriever_blog_post', 'args': {'query': 'prompt engineering in LLM Powered Autonomous Agents'}, 'id': 'call_w2mX8O5JwItPAH6seW2cD4TV', 'type': 'tool_call'}] usage_metadata={'input_tokens': 163, 'output_tokens': 86, 'total_tokens': 249, 'input_token_details': {'audio': 0, 'cache_read': 0}, 'output_token_details': {'audio': 0, 'reasoning': 0}}\n"
     ]
    }
   ],
   "source": [
    "llm_with_tool=llm.bind_tools(tools)\n",
    "response=llm_with_tool.invoke(\"what is LLM Powered Autonomous Agents explain the planning and reflection and prompt engineering explain me in terms of agents and langchain?\")\n",
    "\n",
    "print(\"----LLM_WITH_TOOL----\")\n",
    "\n",
    "print(response)"
   ]
  },
  {
   "cell_type": "code",
   "execution_count": 17,
   "id": "e0ef893b",
   "metadata": {},
   "outputs": [],
   "source": [
    "def LLM_Decision_Maker(state:AgentState):\n",
    "    print(\"----CALL LLM_DECISION_MAKE----\")\n",
    "    message=state[\"messages\"]\n",
    "    last_message=message[-1]\n",
    "    question=last_message.content\n",
    "    response=llm_with_tool.invoke(question)\n",
    "    return {\"messages\":[response]}"
   ]
  },
  {
   "cell_type": "code",
   "execution_count": 8,
   "id": "21365e07",
   "metadata": {},
   "outputs": [],
   "source": [
    "class grade(BaseModel):\n",
    "    binary_score:str=Field(description=\"Relvance score 'yes' or 'no'\")"
   ]
  },
  {
   "cell_type": "code",
   "execution_count": 9,
   "id": "c0e240fb",
   "metadata": {},
   "outputs": [],
   "source": [
    "def grade_documents(state:AgentState)->Literal[\"Output Generator\", \"Query Rewriter\"]:\n",
    "    print(\"----CALLING GRADE FOR CHECKING RELEVANCY----\")\n",
    "    llm_with_structure_op=llm.with_structured_output(grade)\n",
    "    \n",
    "    prompt=PromptTemplate(\n",
    "        template=\"\"\"You are a grader deciding if a document is relevant to a user’s question.\n",
    "                    Here is the document: {context}\n",
    "                    Here is the user’s question: {question}\n",
    "                    If the document talks about or contains information related to the user’s question, mark it as relevant. \n",
    "                    Give a 'yes' or 'no' answer to show if the document is relevant to the question.\"\"\",\n",
    "                    input_variables=[\"context\", \"question\"]\n",
    "                    )\n",
    "     \n",
    "    chain=prompt|llm_with_structure_op\n",
    "     \n",
    "     \n",
    "    message=state['messages']\n",
    "    \n",
    "    last_message = message[-1]\n",
    "    \n",
    "    question = message[0].content\n",
    "    \n",
    "    docs = last_message.content\n",
    "    \n",
    "    scored_result=chain.invoke({\"question\": question, \"context\": docs})\n",
    "    \n",
    "    score=scored_result.binary_score\n",
    "     \n",
    "    if score==\"yes\":\n",
    "        print(\"----DECISION: DOCS ARE RELEVANT----\")\n",
    "        return \"generator\"\n",
    "    else:\n",
    "        print(\"----DECISION: DOCS ARE NOT RELEVANT----\")\n",
    "        return \"rewriter\""
   ]
  },
  {
   "cell_type": "code",
   "execution_count": 10,
   "id": "dcb0bf0f",
   "metadata": {},
   "outputs": [
    {
     "name": "stdout",
     "output_type": "stream",
     "text": [
      "================================\u001b[1m Human Message \u001b[0m=================================\n",
      "\n",
      "You are an assistant for question-answering tasks. Use the following pieces of retrieved context to answer the question. If you don't know the answer, just say that you don't know. Use three sentences maximum and keep the answer concise.\n",
      "Question: \u001b[33;1m\u001b[1;3m{question}\u001b[0m \n",
      "Context: \u001b[33;1m\u001b[1;3m{context}\u001b[0m \n",
      "Answer:\n"
     ]
    }
   ],
   "source": [
    "from langchain import hub\n",
    "hub.pull(\"rlm/rag-prompt\").pretty_print()"
   ]
  },
  {
   "cell_type": "code",
   "execution_count": 11,
   "id": "fb7d3c5b",
   "metadata": {},
   "outputs": [],
   "source": [
    "def generate(state:AgentState):\n",
    "    print(\"----RAG OUTPUT GENERATE----\")\n",
    "    \n",
    "    message=state[\"messages\"]\n",
    "    question=message[0].content\n",
    "    \n",
    "    last_message = message[-1]\n",
    "    docs = last_message.content\n",
    "    \n",
    "    prompt=hub.pull(\"rlm/rag-prompt\")\n",
    "    \n",
    "    rag_chain=prompt | llm\n",
    "    \n",
    "    response=rag_chain.invoke({\"context\": docs, \"question\": question})\n",
    "    \n",
    "    print(f\"this is my response:{response}\")\n",
    "    \n",
    "    return {\"messages\": [response]}\n",
    "    "
   ]
  },
  {
   "cell_type": "code",
   "execution_count": 12,
   "id": "c73c400a",
   "metadata": {},
   "outputs": [],
   "source": [
    "def rewrite(state:AgentState):\n",
    "    print(\"----TRANSFORM QUERY----\")\n",
    "    message=state[\"messages\"]\n",
    "    \n",
    "    question=message[0].content\n",
    "    \n",
    "    input= [HumanMessage(content=f\"\"\"Look at the input and try to reason about the underlying semantic intent or meaning. \n",
    "                    Here is the initial question: {question} \n",
    "                    Formulate an improved question: \"\"\")\n",
    "       ]\n",
    "\n",
    "    response=llm.invoke(input)\n",
    "    \n",
    "    return {\"messages\": [response]}\n",
    "    "
   ]
  },
  {
   "cell_type": "code",
   "execution_count": null,
   "id": "17966e3e",
   "metadata": {},
   "outputs": [],
   "source": [
    "workflow=StateGraph(AgentState)\n",
    "\n",
    "\n",
    "workflow.add_node(\"LLM Decision Maker\",LLM_Decision_Maker)\n",
    "workflow.add_node(\"Vector Retriever\",retriever_node)\n",
    "workflow.add_node(\"Output Generator\",generate)\n",
    "workflow.add_node(\"Query Rewriter\",rewrite)\n",
    "\n",
    "workflow.add_edge(START,\"LLM Decision Maker\")\n",
    "workflow.add_conditional_edges(\"LLM Decision Maker\",\n",
    "                               tools_condition,\n",
    "                               {\"tools\":\"Vector Retriever\",\n",
    "                                END:END\n",
    "                                })\n",
    "workflow.add_conditional_edges(\"Vector Retriever\",\n",
    "                               grade_documents,\n",
    "                               {\"generator\":\"Output Generator\",\n",
    "                                \"rewriter\":\"Query Rewriter\"\n",
    "                                })\n",
    "workflow.add_edge(\"Output Generator\",END)\n",
    "workflow.add_edge(\"Query Rewriter\",\"LLM Decision Maker\")\n",
    "\n",
    "app=workflow.compile()"
   ]
  },
  {
   "cell_type": "code",
   "execution_count": 19,
   "id": "13161825",
   "metadata": {},
   "outputs": [
    {
     "data": {
      "image/png": "[encoded data removed]",
      "text/plain": [
       "<langgraph.graph.state.CompiledStateGraph object at 0x1250ccec0>"
      ]
     },
     "execution_count": 19,
     "metadata": {},
     "output_type": "execute_result"
    }
   ],
   "source": [
    "app"
   ]
  },
  {
   "cell_type": "code",
   "execution_count": 20,
   "id": "4777141c",
   "metadata": {},
   "outputs": [
    {
     "name": "stdout",
     "output_type": "stream",
     "text": [
      "----CALL LLM_DECISION_MAKE----\n",
      "----CALLING GRADE FOR CHECKING RELEVANCY----\n",
      "----DECISION: DOCS ARE RELEVANT----\n",
      "----RAG OUTPUT GENERATE----\n",
      "this is my response:content='LLM Powered Autonomous Agents utilize reflections from failed trajectories to guide future plan changes. By prompting LM with recent observations and generating high-level questions, agents can translate reflections and environment information into actions. This design combines LLM with memory, planning, and reflection mechanisms for improved agent behavior and interaction.' additional_kwargs={'refusal': None} response_metadata={'token_usage': {'completion_tokens': 58, 'prompt_tokens': 285, 'total_tokens': 343, 'completion_tokens_details': {'accepted_prediction_tokens': 0, 'audio_tokens': 0, 'reasoning_tokens': 0, 'rejected_prediction_tokens': 0}, 'prompt_tokens_details': {'audio_tokens': 0, 'cached_tokens': 0}}, 'model_name': 'gpt-3.5-turbo-0125', 'system_fingerprint': None, 'id': 'chatcmpl-Bl0nk2BDBqiLvQLRi0WqwE35CiD0G', 'service_tier': 'default', 'finish_reason': 'stop', 'logprobs': None} id='run--8d34eef0-fbe6-4b44-aa33-537272e5d533-0' usage_metadata={'input_tokens': 285, 'output_tokens': 58, 'total_tokens': 343, 'input_token_details': {'audio': 0, 'cache_read': 0}, 'output_token_details': {'audio': 0, 'reasoning': 0}}\n"
     ]
    },
    {
     "data": {
      "text/plain": [
       "{'messages': [HumanMessage(content='what is LLM Powered Autonomous Agents explain the planning and reflection and prompt engineering explain me in terms of agents and langchain?', additional_kwargs={}, response_metadata={}, id='912db302-726b-4b5a-a815-d1a2e0c3a2aa'),\n",
       "  AIMessage(content='', additional_kwargs={'tool_calls': [{'id': 'call_eXLwpSgOcu6Wu0CBozwHzARS', 'function': {'arguments': '{\"query\": \"LLM Powered Autonomous Agents\"}', 'name': 'retriever_blog_post'}, 'type': 'function'}, {'id': 'call_5txEsdLpNC3xzBJgjxv2dh4S', 'function': {'arguments': '{\"query\": \"planning and reflection in LLM\"}', 'name': 'retriever_blog_post'}, 'type': 'function'}], 'refusal': None}, response_metadata={'token_usage': {'completion_tokens': 59, 'prompt_tokens': 163, 'total_tokens': 222, 'completion_tokens_details': {'accepted_prediction_tokens': 0, 'audio_tokens': 0, 'reasoning_tokens': 0, 'rejected_prediction_tokens': 0}, 'prompt_tokens_details': {'audio_tokens': 0, 'cached_tokens': 0}}, 'model_name': 'gpt-3.5-turbo-0125', 'system_fingerprint': None, 'id': 'chatcmpl-Bl0nhxsRsdFCTPaAFBtShI2mNFEwd', 'service_tier': 'default', 'finish_reason': 'tool_calls', 'logprobs': None}, id='run--85d48b29-f21d-45fa-91c7-fc5be57c7eaa-0', tool_calls=[{'name': 'retriever_blog_post', 'args': {'query': 'LLM Powered Autonomous Agents'}, 'id': 'call_eXLwpSgOcu6Wu0CBozwHzARS', 'type': 'tool_call'}, {'name': 'retriever_blog_post', 'args': {'query': 'planning and reflection in LLM'}, 'id': 'call_5txEsdLpNC3xzBJgjxv2dh4S', 'type': 'tool_call'}], usage_metadata={'input_tokens': 163, 'output_tokens': 59, 'total_tokens': 222, 'input_token_details': {'audio': 0, 'cache_read': 0}, 'output_token_details': {'audio': 0, 'reasoning': 0}}),\n",
       "  ToolMessage(content='LLM Powered Autonomous Agents | Lil\\'Log\\n\\n\\n\\n\\n\\n\\n\\n\\n\\n\\n\\n\\n\\n\\n\\n\\n\\n\\n\\n\\n\\n\\n\\n\\n\\n\\n\\n\\n\\n\\n\\n\\n\\n\\n\\n\\n\\n\\n\\nLil\\'Log\\n\\n\\n\\n\\n\\n\\n\\n\\n\\n\\n\\n\\n\\n\\n\\n\\n\\n|\\n\\n\\n\\n\\n\\n\\nPosts\\n\\n\\n\\n\\nArchive\\n\\n\\n\\n\\nSearch\\n\\n\\n\\n\\nTags\\n\\n\\n\\n\\nFAQ\\n\\nCitation#\\nCited as:\\n\\nWeng, Lilian. (Jun 2023). “LLM-powered Autonomous Agents”. Lil’Log. https://lilianweng.github.io/posts/2023-06-23-agent/.\\n\\nPosts\\n\\n\\n\\n\\nArchive\\n\\n\\n\\n\\nSearch\\n\\n\\n\\n\\nTags\\n\\n\\n\\n\\nFAQ\\n\\n\\n\\n\\n\\n\\n\\n\\n\\n      LLM Powered Autonomous Agents\\n    \\nDate: June 23, 2023  |  Estimated Reading Time: 31 min  |  Author: Lilian Weng\\n\\n\\n \\n\\n\\nTable of Contents\\n\\n\\n\\nAgent System Overview\\n\\nComponent One: Planning\\n\\nTask Decomposition\\n\\nSelf-Reflection\\n\\nOr\\n@article{weng2023agent,\\n  title   = \"LLM-powered Autonomous Agents\",\\n  author  = \"Weng, Lilian\",\\n  journal = \"lilianweng.github.io\",\\n  year    = \"2023\",\\n  month   = \"Jun\",', name='retriever_blog_post', id='f495b29f-1a13-427a-83c6-307b0db62a07', tool_call_id='call_eXLwpSgOcu6Wu0CBozwHzARS'),\n",
       "  ToolMessage(content='Self-reflection is created by showing two-shot examples to LLM and each example is a pair of (failed trajectory, ideal reflection for guiding future changes in the plan). Then reflections are added into the agent’s working memory, up to three, to be used as context for querying LLM.\\n\\nChallenges in long-term planning and task decomposition: Planning over a lengthy history and effectively exploring the solution space remain challenging. LLMs struggle to adjust plans when faced with unexpected errors, making them less robust compared to humans who learn from trial and error.\\n\\nPrompt LM with 100 most recent observations and to generate 3 most salient high-level questions given a set of observations/statements. Then ask LM to answer those questions.\\n\\n\\nPlanning & Reacting: translate the reflections and the environment information into actions\\n\\nThe design of generative agents combines LLM with memory, planning and reflection mechanisms to enable agents to behave conditioned on past experience, as well as to interact with other agents.', name='retriever_blog_post', id='5455b01f-6e01-48ad-9301-9fc0fd610a24', tool_call_id='call_5txEsdLpNC3xzBJgjxv2dh4S'),\n",
       "  AIMessage(content='LLM Powered Autonomous Agents utilize reflections from failed trajectories to guide future plan changes. By prompting LM with recent observations and generating high-level questions, agents can translate reflections and environment information into actions. This design combines LLM with memory, planning, and reflection mechanisms for improved agent behavior and interaction.', additional_kwargs={'refusal': None}, response_metadata={'token_usage': {'completion_tokens': 58, 'prompt_tokens': 285, 'total_tokens': 343, 'completion_tokens_details': {'accepted_prediction_tokens': 0, 'audio_tokens': 0, 'reasoning_tokens': 0, 'rejected_prediction_tokens': 0}, 'prompt_tokens_details': {'audio_tokens': 0, 'cached_tokens': 0}}, 'model_name': 'gpt-3.5-turbo-0125', 'system_fingerprint': None, 'id': 'chatcmpl-Bl0nk2BDBqiLvQLRi0WqwE35CiD0G', 'service_tier': 'default', 'finish_reason': 'stop', 'logprobs': None}, id='run--8d34eef0-fbe6-4b44-aa33-537272e5d533-0', usage_metadata={'input_tokens': 285, 'output_tokens': 58, 'total_tokens': 343, 'input_token_details': {'audio': 0, 'cache_read': 0}, 'output_token_details': {'audio': 0, 'reasoning': 0}})]}"
      ]
     },
     "execution_count": 20,
     "metadata": {},
     "output_type": "execute_result"
    }
   ],
   "source": [
    "app.invoke({\"messages\":[\"what is LLM Powered Autonomous Agents explain the planning and reflection and prompt engineering explain me in terms of agents and langchain?\"]})"
   ]
  },
  {
   "cell_type": "code",
   "execution_count": 21,
   "id": "5c6f9f74",
   "metadata": {},
   "outputs": [
    {
     "name": "stdout",
     "output_type": "stream",
     "text": [
      "----CALL LLM_DECISION_MAKE----\n"
     ]
    },
    {
     "data": {
      "text/plain": [
       "{'messages': [HumanMessage(content='hi how are you gpt?', additional_kwargs={}, response_metadata={}, id='dd2b7af5-fce7-4ae8-86cb-d738783e0eb6'),\n",
       "  AIMessage(content=\"Hello! I'm here and ready to assist you. How can I help you today?\", additional_kwargs={'refusal': None}, response_metadata={'token_usage': {'completion_tokens': 19, 'prompt_tokens': 145, 'total_tokens': 164, 'completion_tokens_details': {'accepted_prediction_tokens': 0, 'audio_tokens': 0, 'reasoning_tokens': 0, 'rejected_prediction_tokens': 0}, 'prompt_tokens_details': {'audio_tokens': 0, 'cached_tokens': 0}}, 'model_name': 'gpt-3.5-turbo-0125', 'system_fingerprint': None, 'id': 'chatcmpl-Bl0td54kwhRkzEcwu6GkiuNcOVOFR', 'service_tier': 'default', 'finish_reason': 'stop', 'logprobs': None}, id='run--3739f411-63f5-4e69-b516-cf236e09f5eb-0', usage_metadata={'input_tokens': 145, 'output_tokens': 19, 'total_tokens': 164, 'input_token_details': {'audio': 0, 'cache_read': 0}, 'output_token_details': {'audio': 0, 'reasoning': 0}})]}"
      ]
     },
     "execution_count": 21,
     "metadata": {},
     "output_type": "execute_result"
    }
   ],
   "source": [
    "app.invoke({\"messages\":[\"hi how are you gpt?\"]})"
   ]
  },
  {
   "cell_type": "code",
   "execution_count": 22,
   "id": "853f9649",
   "metadata": {},
   "outputs": [
    {
     "name": "stdout",
     "output_type": "stream",
     "text": [
      "----CALL LLM_DECISION_MAKE----\n"
     ]
    },
    {
     "data": {
      "text/plain": [
       "{'messages': [HumanMessage(content='what is a capital of india?', additional_kwargs={}, response_metadata={}, id='5bc0c504-0f6c-436d-aafb-834a0d4b6ba7'),\n",
       "  AIMessage(content='The capital of India is New Delhi.', additional_kwargs={'refusal': None}, response_metadata={'token_usage': {'completion_tokens': 9, 'prompt_tokens': 145, 'total_tokens': 154, 'completion_tokens_details': {'accepted_prediction_tokens': 0, 'audio_tokens': 0, 'reasoning_tokens': 0, 'rejected_prediction_tokens': 0}, 'prompt_tokens_details': {'audio_tokens': 0, 'cached_tokens': 0}}, 'model_name': 'gpt-3.5-turbo-0125', 'system_fingerprint': None, 'id': 'chatcmpl-Bl0tnfNChaueO8GzamFnrpxDnXwK7', 'service_tier': 'default', 'finish_reason': 'stop', 'logprobs': None}, id='run--7a7d54fc-76a9-44b2-b47f-82e16321ba8f-0', usage_metadata={'input_tokens': 145, 'output_tokens': 9, 'total_tokens': 154, 'input_token_details': {'audio': 0, 'cache_read': 0}, 'output_token_details': {'audio': 0, 'reasoning': 0}})]}"
      ]
     },
     "execution_count": 22,
     "metadata": {},
     "output_type": "execute_result"
    }
   ],
   "source": [
    "app.invoke({\"messages\":[\"what is a capital of india?\"]})"
   ]
  },
  {
   "cell_type": "code",
   "execution_count": 25,
   "id": "e5e9d1e4",
   "metadata": {},
   "outputs": [
    {
     "name": "stdout",
     "output_type": "stream",
     "text": [
      "----CALL LLM_DECISION_MAKE----\n",
      "----CALLING GRADE FOR CHECKING RELEVANCY----\n",
      "----DECISION: DOCS ARE RELEVANT----\n",
      "----RAG OUTPUT GENERATE----\n",
      "this is my response:content=\"Task decomposition is a technique of breaking down complex tasks into smaller and simpler steps to enhance model performance. Chain of Thought (CoT) is a standard prompting technique that instructs models to think step by step, transforming big tasks into manageable tasks to allow for a deeper interpretation of the model's thinking process. CoT generates short sentences describing reasoning logic in a sequence, known as reasoning chains, which benefits complicated reasoning tasks with large models.\" additional_kwargs={'refusal': None} response_metadata={'token_usage': {'completion_tokens': 87, 'prompt_tokens': 460, 'total_tokens': 547, 'completion_tokens_details': {'accepted_prediction_tokens': 0, 'audio_tokens': 0, 'reasoning_tokens': 0, 'rejected_prediction_tokens': 0}, 'prompt_tokens_details': {'audio_tokens': 0, 'cached_tokens': 0}}, 'model_name': 'gpt-3.5-turbo-0125', 'system_fingerprint': None, 'id': 'chatcmpl-Bl0x9OOLLaX0BI86392dHdoOgsjsh', 'service_tier': 'default', 'finish_reason': 'stop', 'logprobs': None} id='run--c3a82658-c712-41a2-91c0-e0f74f9501bf-0' usage_metadata={'input_tokens': 460, 'output_tokens': 87, 'total_tokens': 547, 'input_token_details': {'audio': 0, 'cache_read': 0}, 'output_token_details': {'audio': 0, 'reasoning': 0}}\n"
     ]
    },
    {
     "data": {
      "text/plain": [
       "{'messages': [HumanMessage(content='can you explain me what is a task decomposition and why Chain of thought (CoT; Wei et al. 2022) has become a standard prompting technique for enhancing model performance on complex tasks use tool?', additional_kwargs={}, response_metadata={}, id='e2800ae1-0106-498f-b4c7-5e8807989ae1'),\n",
       "  AIMessage(content='', additional_kwargs={'tool_calls': [{'id': 'call_9zyvz6V40lyv3Vvd6uh9xylk', 'function': {'arguments': '{\"query\":\"task decomposition and Chain of Thought (CoT; Wei et al. 2022)\"}', 'name': 'retriever_blog_post'}, 'type': 'function'}], 'refusal': None}, response_metadata={'token_usage': {'completion_tokens': 34, 'prompt_tokens': 180, 'total_tokens': 214, 'completion_tokens_details': {'accepted_prediction_tokens': 0, 'audio_tokens': 0, 'reasoning_tokens': 0, 'rejected_prediction_tokens': 0}, 'prompt_tokens_details': {'audio_tokens': 0, 'cached_tokens': 0}}, 'model_name': 'gpt-3.5-turbo-0125', 'system_fingerprint': None, 'id': 'chatcmpl-Bl0x7nF35x2VSfMyGap0Dbh8yBZnV', 'service_tier': 'default', 'finish_reason': 'tool_calls', 'logprobs': None}, id='run--652e9464-8f35-4e42-bca9-c371dbed82cc-0', tool_calls=[{'name': 'retriever_blog_post', 'args': {'query': 'task decomposition and Chain of Thought (CoT; Wei et al. 2022)'}, 'id': 'call_9zyvz6V40lyv3Vvd6uh9xylk', 'type': 'tool_call'}], usage_metadata={'input_tokens': 180, 'output_tokens': 34, 'total_tokens': 214, 'input_token_details': {'audio': 0, 'cache_read': 0}, 'output_token_details': {'audio': 0, 'reasoning': 0}}),\n",
       "  ToolMessage(content='Task Decomposition#\\nChain of thought (CoT; Wei et al. 2022) has become a standard prompting technique for enhancing model performance on complex tasks. The model is instructed to “think step by step” to utilize more test-time computation to decompose hard tasks into smaller and simpler steps. CoT transforms big tasks into multiple manageable tasks and shed lights into an interpretation of the model’s thinking process.\\n\\nTree of Thoughts (Yao et al. 2023) extends CoT by exploring multiple reasoning possibilities at each step. It first decomposes the problem into multiple thought steps and generates multiple thoughts per step, creating a tree structure. The search process can be BFS (breadth-first search) or DFS (depth-first search) with each state evaluated by a classifier (via a prompt) or majority vote.\\n\\nChain-of-thought (CoT) prompting (Wei et al. 2022) generates a sequence of short sentences to describe reasoning logics step by step, known as reasoning chains or rationales, to eventually lead to the final answer. The benefit of CoT is more pronounced for complicated reasoning tasks, while using large models (e.g. with more than 50B parameters). Simple tasks only benefit slightly from CoT prompting.\\nTypes of CoT prompts#\\n\\nHow Self-Ask works with external search queries.(Image source: Press et al. 2022).\\n\\n\\nTree of Thoughts (Yao et al. 2023) extends CoT by exploring multiple reasoning possibilities at each step. It first decomposes the problem into multiple thought steps and generates multiple thoughts per step, essentially creating a tree structure. The search process can be BFS or DFS while each state is evaluated by a classifier (via a prompt) or majority vote.', name='retriever_blog_post', id='8c527049-f3a6-43a7-ae90-619854d2fda6', tool_call_id='call_9zyvz6V40lyv3Vvd6uh9xylk'),\n",
       "  AIMessage(content=\"Task decomposition is a technique of breaking down complex tasks into smaller and simpler steps to enhance model performance. Chain of Thought (CoT) is a standard prompting technique that instructs models to think step by step, transforming big tasks into manageable tasks to allow for a deeper interpretation of the model's thinking process. CoT generates short sentences describing reasoning logic in a sequence, known as reasoning chains, which benefits complicated reasoning tasks with large models.\", additional_kwargs={'refusal': None}, response_metadata={'token_usage': {'completion_tokens': 87, 'prompt_tokens': 460, 'total_tokens': 547, 'completion_tokens_details': {'accepted_prediction_tokens': 0, 'audio_tokens': 0, 'reasoning_tokens': 0, 'rejected_prediction_tokens': 0}, 'prompt_tokens_details': {'audio_tokens': 0, 'cached_tokens': 0}}, 'model_name': 'gpt-3.5-turbo-0125', 'system_fingerprint': None, 'id': 'chatcmpl-Bl0x9OOLLaX0BI86392dHdoOgsjsh', 'service_tier': 'default', 'finish_reason': 'stop', 'logprobs': None}, id='run--c3a82658-c712-41a2-91c0-e0f74f9501bf-0', usage_metadata={'input_tokens': 460, 'output_tokens': 87, 'total_tokens': 547, 'input_token_details': {'audio': 0, 'cache_read': 0}, 'output_token_details': {'audio': 0, 'reasoning': 0}})]}"
      ]
     },
     "execution_count": 25,
     "metadata": {},
     "output_type": "execute_result"
    }
   ],
   "source": [
    "question=\"can you explain me what is a task decomposition and why Chain of thought (CoT; Wei et al. 2022) has become a standard prompting technique for enhancing model performance on complex tasks use tool?\"\n",
    "app.invoke({\"messages\":[question]})"
   ]
  },
  {
   "cell_type": "code",
   "execution_count": 31,
   "id": "eac53c6c",
   "metadata": {},
   "outputs": [
    {
     "name": "stdout",
     "output_type": "stream",
     "text": [
      "----CALL LLM_DECISION_MAKE----\n",
      "----CALLING GRADE FOR CHECKING RELEVANCY----\n",
      "----DECISION: DOCS ARE NOT RELEVANT----\n",
      "----TRANSFORM QUERY----\n",
      "----CALL LLM_DECISION_MAKE----\n"
     ]
    },
    {
     "data": {
      "text/plain": [
       "{'messages': [HumanMessage(content='what is 782 * 782 using tool?', additional_kwargs={}, response_metadata={}, id='f21e01d2-0a1f-471e-8c52-fd81f9bb861f'),\n",
       "  AIMessage(content='', additional_kwargs={'tool_calls': [{'id': 'call_Gw2qQ9uTBYncqFtWTeJNxA0A', 'function': {'arguments': '{\"query\": \"What is 782*782?\"}', 'name': 'retriever_blog_post'}, 'type': 'function'}], 'refusal': None}, response_metadata={'token_usage': {'completion_tokens': 38, 'prompt_tokens': 148, 'total_tokens': 186, 'completion_tokens_details': {'accepted_prediction_tokens': 0, 'audio_tokens': 0, 'reasoning_tokens': 0, 'rejected_prediction_tokens': 0}, 'prompt_tokens_details': {'audio_tokens': 0, 'cached_tokens': 0}}, 'model_name': 'gpt-3.5-turbo-0125', 'system_fingerprint': None, 'id': 'chatcmpl-Bl0z9mZXvOdqocEkgwlayWjsfvUaX', 'service_tier': 'default', 'finish_reason': 'tool_calls', 'logprobs': None}, id='run--3ee928bb-2e89-4be9-bbf5-22d196372d44-0', tool_calls=[{'name': 'retriever_blog_post', 'args': {'query': 'What is 782*782?'}, 'id': 'call_Gw2qQ9uTBYncqFtWTeJNxA0A', 'type': 'tool_call'}], usage_metadata={'input_tokens': 148, 'output_tokens': 38, 'total_tokens': 186, 'input_token_details': {'audio': 0, 'cache_read': 0}, 'output_token_details': {'audio': 0, 'reasoning': 0}}),\n",
       "  ToolMessage(content='FAISS (Facebook AI Similarity Search): It operates on the assumption that in high dimensional space, distances between nodes follow a Gaussian distribution and thus there should exist clustering of data points. FAISS applies vector quantization by partitioning the vector space into clusters and then refining the quantization within clusters. Search first looks for cluster candidates with coarse quantization and then further looks into each cluster with finer quantization.\\n\\nSo the answer is 2.\\n===\\nQuestion: Jack is a soccer player. He needs to buy two pairs of socks and a pair of soccer shoes. Each pair of socks cost $9.50, and the shoes cost $92. Jack has $40. How much more money does Jack need?\\nAnswer: The total cost of two pairs of socks is $9.50 x 2 = $<<9.5*2=19>>19.\\n\\nMaximum Inner Product Search (MIPS)#\\nThe external memory can alleviate the restriction of finite attention span.  A standard practice is to save the embedding representation of information into a vector store database that can support fast maximum inner-product search (MIPS). To optimize the retrieval speed, the common choice is the approximate nearest neighbors (ANN)\\u200b algorithm to return approximately top k nearest neighbors to trade off a little accuracy lost for a huge speedup.\\n\\nThey did an experiment on fine-tuning LLM to call a calculator, using arithmetic as a test case. Their experiments showed that it was harder to solve verbal math problems than explicitly stated math problems because LLMs (7B Jurassic1-large model) failed to extract the right arguments for the basic arithmetic reliably. The results highlight when the external symbolic tools can work reliably, knowing when to and how to use the tools are crucial, determined by the LLM capability.', name='retriever_blog_post', id='68e8ed7a-93ed-4875-8c28-75e1ac910793', tool_call_id='call_Gw2qQ9uTBYncqFtWTeJNxA0A'),\n",
       "  AIMessage(content='What is the result of multiplying 782 by 782 using a calculator or mathematical tool?', additional_kwargs={'refusal': None}, response_metadata={'token_usage': {'completion_tokens': 18, 'prompt_tokens': 50, 'total_tokens': 68, 'completion_tokens_details': {'accepted_prediction_tokens': 0, 'audio_tokens': 0, 'reasoning_tokens': 0, 'rejected_prediction_tokens': 0}, 'prompt_tokens_details': {'audio_tokens': 0, 'cached_tokens': 0}}, 'model_name': 'gpt-3.5-turbo-0125', 'system_fingerprint': None, 'id': 'chatcmpl-Bl0zASq3dQzjdCVJiBs7dTmb72BOO', 'service_tier': 'default', 'finish_reason': 'stop', 'logprobs': None}, id='run--83033710-b77c-49cb-9e85-68c12f74fa21-0', usage_metadata={'input_tokens': 50, 'output_tokens': 18, 'total_tokens': 68, 'input_token_details': {'audio': 0, 'cache_read': 0}, 'output_token_details': {'audio': 0, 'reasoning': 0}}),\n",
       "  AIMessage(content='The result of multiplying 782 by 782 is 610724.', additional_kwargs={'refusal': None}, response_metadata={'token_usage': {'completion_tokens': 15, 'prompt_tokens': 156, 'total_tokens': 171, 'completion_tokens_details': {'accepted_prediction_tokens': 0, 'audio_tokens': 0, 'reasoning_tokens': 0, 'rejected_prediction_tokens': 0}, 'prompt_tokens_details': {'audio_tokens': 0, 'cached_tokens': 0}}, 'model_name': 'gpt-3.5-turbo-0125', 'system_fingerprint': None, 'id': 'chatcmpl-Bl0zBTK43BEFYV4Pw34KeNi1glAHV', 'service_tier': 'default', 'finish_reason': 'stop', 'logprobs': None}, id='run--6304866f-68db-4164-be18-70391620dc58-0', usage_metadata={'input_tokens': 156, 'output_tokens': 15, 'total_tokens': 171, 'input_token_details': {'audio': 0, 'cache_read': 0}, 'output_token_details': {'audio': 0, 'reasoning': 0}})]}"
      ]
     },
     "execution_count": 31,
     "metadata": {},
     "output_type": "execute_result"
    }
   ],
   "source": [
    "app.invoke({\"messages\":[\"what is 782 * 782 using tool?\"]})"
   ]
  },
  {
   "cell_type": "code",
   "execution_count": 59,
   "id": "117f349e",
   "metadata": {},
   "outputs": [],
   "source": [
    "from langchain_core.documents import Document\n",
    "\n",
    "\n",
    "def tavily_web_search(state):\n",
    "    \"\"\"\n",
    "    Web search based on the re-written question.\n",
    "\n",
    "    Args:\n",
    "        state (dict): The current graph state\n",
    "\n",
    "    Returns:\n",
    "        state (dict): Updates documents key with appended web results\n",
    "    \"\"\"\n",
    "\n",
    "    print(\"---WEB SEARCH---\")\n",
    "    from langchain_community.tools.tavily_search import TavilySearchResults\n",
    "\n",
    "    # Initialize Tavily web search tool\n",
    "    web_search_tool = TavilySearchResults(k=3)\n",
    "    \n",
    "    # Extract question from messages or use the question key if available\n",
    "    if \"question\" in state:\n",
    "        question = state[\"question\"]\n",
    "        # If question is an AIMessage object, extract its content\n",
    "        if hasattr(question, 'content'):\n",
    "            question = question.content\n",
    "    elif \"messages\" in state:\n",
    "        # Get the last message or first message as the question\n",
    "        messages = state[\"messages\"]\n",
    "        question = messages[-1] if isinstance(messages, list) else str(messages)\n",
    "        # If it's an AIMessage object, extract its content\n",
    "        if hasattr(question, 'content'):\n",
    "            question = question.content\n",
    "    else:\n",
    "        raise ValueError(\"No question or messages found in state\")\n",
    "\n",
    "    # Ensure question is a string\n",
    "    question = str(question)\n",
    "    print(f\"Searching for: {question}\")\n",
    "\n",
    "    # Web search\n",
    "    docs = web_search_tool.invoke({\"query\": question})\n",
    "    web_results = \"\\n\".join([d[\"content\"] for d in docs])\n",
    "    web_results = Document(page_content=web_results)\n",
    "\n",
    "    return {\"documents\": [web_results], \"question\": question}"
   ]
  },
  {
   "cell_type": "code",
   "execution_count": 60,
   "id": "c010ec04",
   "metadata": {},
   "outputs": [],
   "source": [
    "workflow=StateGraph(AgentState)\n",
    "\n",
    "workflow.add_node(\"LLM Decision Maker\",LLM_Decision_Maker)\n",
    "workflow.add_node(\"Vector Retriever\",retriever_node)\n",
    "workflow.add_node(\"Output Generator\",generate)\n",
    "workflow.add_node(\"Query Rewriter\",rewrite)\n",
    "workflow.add_node(\"Tavily Web Search\",tavily_web_search)\n",
    "\n",
    "workflow.add_edge(START,\"LLM Decision Maker\")\n",
    "workflow.add_conditional_edges(\"LLM Decision Maker\",\n",
    "                               tools_condition,\n",
    "                               {\"tools\":\"Vector Retriever\",\n",
    "                                END:END\n",
    "                                })\n",
    "workflow.add_conditional_edges(\"Vector Retriever\",\n",
    "                               grade_documents,\n",
    "                               {\"generator\":\"Output Generator\",\n",
    "                                \"rewriter\":\"Query Rewriter\"\n",
    "                                })\n",
    "workflow.add_edge(\"Output Generator\",END)\n",
    "workflow.add_edge(\"Query Rewriter\",\"Tavily Web Search\")\n",
    "workflow.add_edge(\"Tavily Web Search\",\"Output Generator\")\n",
    "\n",
    "app2=workflow.compile()"
   ]
  },
  {
   "cell_type": "code",
   "execution_count": 57,
   "id": "c7ef1509",
   "metadata": {},
   "outputs": [
    {
     "data": {
      "image/png": "[encoded data removed]",
      "text/plain": [
       "<langgraph.graph.state.CompiledStateGraph object at 0x123f2cf50>"
      ]
     },
     "execution_count": 57,
     "metadata": {},
     "output_type": "execute_result"
    }
   ],
   "source": [
    "app2"
   ]
  },
  {
   "cell_type": "code",
   "execution_count": 49,
   "id": "31f3163c",
   "metadata": {},
   "outputs": [
    {
     "name": "stdout",
     "output_type": "stream",
     "text": [
      "----CALL LLM_DECISION_MAKE----\n",
      "----CALLING GRADE FOR CHECKING RELEVANCY----\n",
      "----DECISION: DOCS ARE RELEVANT----\n",
      "----RAG OUTPUT GENERATE----\n",
      "this is my response:content=\"I don't know the answer to that question.\" additional_kwargs={'refusal': None} response_metadata={'token_usage': {'completion_tokens': 10, 'prompt_tokens': 152, 'total_tokens': 162, 'completion_tokens_details': {'accepted_prediction_tokens': 0, 'audio_tokens': 0, 'reasoning_tokens': 0, 'rejected_prediction_tokens': 0}, 'prompt_tokens_details': {'audio_tokens': 0, 'cached_tokens': 0}}, 'model_name': 'gpt-3.5-turbo-0125', 'system_fingerprint': None, 'id': 'chatcmpl-Bl1HQpsXlgJqafXD6rV1fgQGHrYXc', 'service_tier': 'default', 'finish_reason': 'stop', 'logprobs': None} id='run--09461711-553a-46ea-800b-7e909e5b6288-0' usage_metadata={'input_tokens': 152, 'output_tokens': 10, 'total_tokens': 162, 'input_token_details': {'audio': 0, 'cache_read': 0}, 'output_token_details': {'audio': 0, 'reasoning': 0}}\n"
     ]
    },
    {
     "data": {
      "text/plain": [
       "{'messages': [HumanMessage(content='what is 782 * 782 using tool?', additional_kwargs={}, response_metadata={}, id='8bedc1da-2820-4cce-be0c-415f200f90f3'),\n",
       "  AIMessage(content='', additional_kwargs={'tool_calls': [{'id': 'call_usimjjUxyjQTn83KGpTxolb3', 'function': {'arguments': '{\"query\":\"782 * 782\"}', 'name': 'retriever_blog_post'}, 'type': 'function'}], 'refusal': None}, response_metadata={'token_usage': {'completion_tokens': 20, 'prompt_tokens': 148, 'total_tokens': 168, 'completion_tokens_details': {'accepted_prediction_tokens': 0, 'audio_tokens': 0, 'reasoning_tokens': 0, 'rejected_prediction_tokens': 0}, 'prompt_tokens_details': {'audio_tokens': 0, 'cached_tokens': 0}}, 'model_name': 'gpt-3.5-turbo-0125', 'system_fingerprint': None, 'id': 'chatcmpl-Bl1HO6nuuAVPHhLgAbPq9eKIaJ2rT', 'service_tier': 'default', 'finish_reason': 'tool_calls', 'logprobs': None}, id='run--2c03c158-fd7f-4d60-b1a4-a29a76bbc43b-0', tool_calls=[{'name': 'retriever_blog_post', 'args': {'query': '782 * 782'}, 'id': 'call_usimjjUxyjQTn83KGpTxolb3', 'type': 'tool_call'}], usage_metadata={'input_tokens': 148, 'output_tokens': 20, 'total_tokens': 168, 'input_token_details': {'audio': 0, 'cache_read': 0}, 'output_token_details': {'audio': 0, 'reasoning': 0}}),\n",
       "  ToolMessage(content=\"Prompt Engineering | Lil'Log\\n\\n\\n\\n\\n\\n\\n\\n\\n\\n\\n\\n\\n\\n\\n\\n\\n\\n\\n\\n\\n\\n\\n\\n\\n\\n\\n\\n\\n\\n\\n\\n\\n\\n\\n\\n\\n\\n\\n\\nLil'Log\\n\\n\\n\\n\\n\\n\\n\\n\\n\\n\\n\\n\\n\\n\\n\\n\\n\\n|\\n\\n\\n\\n\\n\\n\\nPosts\\n\\n\\n\\n\\nArchive\\n\\n\\n\\n\\nSearch\\n\\n\\n\\n\\nTags\\n\\n\\n\\n\\nFAQ\\n\\nAutomatic Prompt Design#\\n\\nCitation#\\nCited as:\\n\\n<div>\\n    $$\\n    \\\\begin{aligned}\\n    e(c) &= \\\\langle\\\\texttt{API}\\\\rangle a_c(i_c) \\\\langle\\\\texttt{/API}\\\\rangle \\\\\\\\\", name='retriever_blog_post', id='687ce467-7351-4d69-b1fd-9f80cbfaa7aa', tool_call_id='call_usimjjUxyjQTn83KGpTxolb3'),\n",
       "  AIMessage(content=\"I don't know the answer to that question.\", additional_kwargs={'refusal': None}, response_metadata={'token_usage': {'completion_tokens': 10, 'prompt_tokens': 152, 'total_tokens': 162, 'completion_tokens_details': {'accepted_prediction_tokens': 0, 'audio_tokens': 0, 'reasoning_tokens': 0, 'rejected_prediction_tokens': 0}, 'prompt_tokens_details': {'audio_tokens': 0, 'cached_tokens': 0}}, 'model_name': 'gpt-3.5-turbo-0125', 'system_fingerprint': None, 'id': 'chatcmpl-Bl1HQpsXlgJqafXD6rV1fgQGHrYXc', 'service_tier': 'default', 'finish_reason': 'stop', 'logprobs': None}, id='run--09461711-553a-46ea-800b-7e909e5b6288-0', usage_metadata={'input_tokens': 152, 'output_tokens': 10, 'total_tokens': 162, 'input_token_details': {'audio': 0, 'cache_read': 0}, 'output_token_details': {'audio': 0, 'reasoning': 0}})]}"
      ]
     },
     "execution_count": 49,
     "metadata": {},
     "output_type": "execute_result"
    }
   ],
   "source": [
    "app2.invoke({\"messages\":[\"what is 782 * 782 using tool?\"]})"
   ]
  },
  {
   "cell_type": "code",
   "execution_count": 61,
   "id": "e3994982",
   "metadata": {},
   "outputs": [
    {
     "name": "stdout",
     "output_type": "stream",
     "text": [
      "----CALL LLM_DECISION_MAKE----\n",
      "----CALLING GRADE FOR CHECKING RELEVANCY----\n",
      "----DECISION: DOCS ARE NOT RELEVANT----\n",
      "----TRANSFORM QUERY----\n",
      "---WEB SEARCH---\n",
      "Searching for: What tools can be used to stay updated on news related to the Iran war?\n",
      "----RAG OUTPUT GENERATE----\n",
      "this is my response:content=\"Some common tools to stay updated on news related to the Iran war include news websites, social media platforms, and news apps. These resources provide real-time updates and analysis on the latest developments in the conflict. It's important to verify sources and cross-check information to ensure accuracy.\" additional_kwargs={'refusal': None} response_metadata={'token_usage': {'completion_tokens': 55, 'prompt_tokens': 92, 'total_tokens': 147, 'completion_tokens_details': {'accepted_prediction_tokens': 0, 'audio_tokens': 0, 'reasoning_tokens': 0, 'rejected_prediction_tokens': 0}, 'prompt_tokens_details': {'audio_tokens': 0, 'cached_tokens': 0}}, 'model_name': 'gpt-3.5-turbo-0125', 'system_fingerprint': None, 'id': 'chatcmpl-Bl1MDz13eat9aXioH547NofFYAq7y', 'service_tier': 'default', 'finish_reason': 'stop', 'logprobs': None} id='run--1c5213b0-f2d3-471d-aa30-1c3e5271c419-0' usage_metadata={'input_tokens': 92, 'output_tokens': 55, 'total_tokens': 147, 'input_token_details': {'audio': 0, 'cache_read': 0}, 'output_token_details': {'audio': 0, 'reasoning': 0}}\n"
     ]
    },
    {
     "data": {
      "text/plain": [
       "{'messages': [HumanMessage(content=\"Waht's the news of Iran war using tool?\", additional_kwargs={}, response_metadata={}, id='e5613da7-c387-4850-9f9f-ab6cca8b870e'),\n",
       "  AIMessage(content='', additional_kwargs={'tool_calls': [{'id': 'call_QOt7CYHTaWPbur20OcZ2or2p', 'function': {'arguments': '{\"query\":\"Iran war news\"}', 'name': 'retriever_blog_post'}, 'type': 'function'}], 'refusal': None}, response_metadata={'token_usage': {'completion_tokens': 19, 'prompt_tokens': 149, 'total_tokens': 168, 'completion_tokens_details': {'accepted_prediction_tokens': 0, 'audio_tokens': 0, 'reasoning_tokens': 0, 'rejected_prediction_tokens': 0}, 'prompt_tokens_details': {'audio_tokens': 0, 'cached_tokens': 0}}, 'model_name': 'gpt-3.5-turbo-0125', 'system_fingerprint': None, 'id': 'chatcmpl-Bl1M89AKQouQ0RRxPUleDIt091fDQ', 'service_tier': 'default', 'finish_reason': 'tool_calls', 'logprobs': None}, id='run--89b87ce9-8672-471e-8a43-69ce84ed6a90-0', tool_calls=[{'name': 'retriever_blog_post', 'args': {'query': 'Iran war news'}, 'id': 'call_QOt7CYHTaWPbur20OcZ2or2p', 'type': 'tool_call'}], usage_metadata={'input_tokens': 149, 'output_tokens': 19, 'total_tokens': 168, 'input_token_details': {'audio': 0, 'cache_read': 0}, 'output_token_details': {'audio': 0, 'reasoning': 0}}),\n",
       "  ToolMessage(content='year    = \"2023\",\\n  month   = \"Mar\",\\n  url     = \"https://lilianweng.github.io/posts/2023-03-15-prompt-engineering/\"\\n}\\nUseful Resources#\\n\\n\"criticism\": \"constructive self-criticism\",\\n        \"speak\": \"thoughts summary to say to user\"\\n    },\\n    \"command\": {\\n        \"name\": \"command name\",\\n        \"args\": {\\n            \"arg name\": \"value\"\\n\\nThey also discussed the risks, especially with illicit drugs and bioweapons. They developed a test set containing a list of known chemical weapon agents and asked the agent to synthesize them. 4 out of 11 requests (36%) were accepted to obtain a synthesis solution and the agent attempted to consult documentation to execute the procedure. 7 out of 11 were rejected and among these 7 rejected cases, 5 happened after a Web search while 2 were rejected based on prompt only.\\nGenerative Agents Simulation#\\n\\nyear    = \"2023\",\\n  month   = \"Jun\",\\n  url     = \"https://lilianweng.github.io/posts/2023-06-23-agent/\"\\n}\\nReferences#\\n[1] Wei et al. “Chain of thought prompting elicits reasoning in large language models.” NeurIPS 2022', name='retriever_blog_post', id='7730bfc3-1177-482b-8a92-8d7e8a690e37', tool_call_id='call_QOt7CYHTaWPbur20OcZ2or2p'),\n",
       "  AIMessage(content='What tools can be used to stay updated on news related to the Iran war?', additional_kwargs={'refusal': None}, response_metadata={'token_usage': {'completion_tokens': 16, 'prompt_tokens': 51, 'total_tokens': 67, 'completion_tokens_details': {'accepted_prediction_tokens': 0, 'audio_tokens': 0, 'reasoning_tokens': 0, 'rejected_prediction_tokens': 0}, 'prompt_tokens_details': {'audio_tokens': 0, 'cached_tokens': 0}}, 'model_name': 'gpt-3.5-turbo-0125', 'system_fingerprint': None, 'id': 'chatcmpl-Bl1M9NFeiHhkIpynSCavjo4jK8Joz', 'service_tier': 'default', 'finish_reason': 'stop', 'logprobs': None}, id='run--f6f1c8e2-4396-46d6-bf4a-0693fdb5154c-0', usage_metadata={'input_tokens': 51, 'output_tokens': 16, 'total_tokens': 67, 'input_token_details': {'audio': 0, 'cache_read': 0}, 'output_token_details': {'audio': 0, 'reasoning': 0}}),\n",
       "  AIMessage(content=\"Some common tools to stay updated on news related to the Iran war include news websites, social media platforms, and news apps. These resources provide real-time updates and analysis on the latest developments in the conflict. It's important to verify sources and cross-check information to ensure accuracy.\", additional_kwargs={'refusal': None}, response_metadata={'token_usage': {'completion_tokens': 55, 'prompt_tokens': 92, 'total_tokens': 147, 'completion_tokens_details': {'accepted_prediction_tokens': 0, 'audio_tokens': 0, 'reasoning_tokens': 0, 'rejected_prediction_tokens': 0}, 'prompt_tokens_details': {'audio_tokens': 0, 'cached_tokens': 0}}, 'model_name': 'gpt-3.5-turbo-0125', 'system_fingerprint': None, 'id': 'chatcmpl-Bl1MDz13eat9aXioH547NofFYAq7y', 'service_tier': 'default', 'finish_reason': 'stop', 'logprobs': None}, id='run--1c5213b0-f2d3-471d-aa30-1c3e5271c419-0', usage_metadata={'input_tokens': 92, 'output_tokens': 55, 'total_tokens': 147, 'input_token_details': {'audio': 0, 'cache_read': 0}, 'output_token_details': {'audio': 0, 'reasoning': 0}})]}"
      ]
     },
     "execution_count": 61,
     "metadata": {},
     "output_type": "execute_result"
    }
   ],
   "source": [
    "question=\"Waht's the news of Iran war using tool?\"\n",
    "app2.invoke({\"messages\":[question]})"
   ]
  }
 ],
 "metadata": {
  "kernelspec": {
   "display_name": "venv",
   "language": "python",
   "name": "python3"
  },
  "language_info": {
   "codemirror_mode": {
    "name": "ipython",
    "version": 3
   },
   "file_extension": ".py",
   "mimetype": "text/x-python",
   "name": "python",
   "nbconvert_exporter": "python",
   "pygments_lexer": "ipython3",
   "version": "3.12.1"
  }
 },
 "nbformat": 4,
 "nbformat_minor": 5
}
