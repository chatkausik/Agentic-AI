{
 "cells": [
  {
   "cell_type": "markdown",
   "id": "36f5337f",
   "metadata": {},
   "source": [
    "# LangChain Tools Tutorial\n",
    "\n",
    "This notebook demonstrates how to use various tools in LangChain, including:\n",
    "1. **Wikipedia Tool** - For searching Wikipedia articles\n",
    "2. **YouTube Search Tool** - For searching YouTube videos\n",
    "3. **Tavily Search Tool** - For web search capabilities\n",
    "4. **Custom Tools** - Creating custom tools with the `@tool` decorator\n",
    "\n",
    "Tools are essential components in LangChain that allow AI agents to interact with external APIs and perform specific tasks."
   ]
  },
  {
   "cell_type": "markdown",
   "id": "32b09eb6",
   "metadata": {},
   "source": [
    "## 1. Wikipedia Tool\n",
    "\n",
    "The Wikipedia tool allows you to search and retrieve information from Wikipedia articles. It's useful for getting factual information about people, places, events, and concepts."
   ]
  },
  {
   "cell_type": "code",
   "execution_count": 2,
   "id": "4341d919",
   "metadata": {},
   "outputs": [],
   "source": [
    "from langchain_community.tools import WikipediaQueryRun"
   ]
  },
  {
   "cell_type": "code",
   "execution_count": 3,
   "id": "3c7f01e1",
   "metadata": {},
   "outputs": [],
   "source": [
    "from langchain_community.utilities import WikipediaAPIWrapper"
   ]
  },
  {
   "cell_type": "markdown",
   "id": "00835920",
   "metadata": {},
   "source": [
    "Configure the Wikipedia API wrapper with:\n",
    "- `top_k_results=5`: Return top 5 search results\n",
    "- `doc_content_chars_max=500`: Limit content to 500 characters per result"
   ]
  },
  {
   "cell_type": "code",
   "execution_count": 4,
   "id": "2fdd72bc",
   "metadata": {},
   "outputs": [],
   "source": [
    "api_wrapper=WikipediaAPIWrapper(top_k_results=5,doc_content_chars_max= 500)"
   ]
  },
  {
   "cell_type": "code",
   "execution_count": 5,
   "id": "694ea1a8",
   "metadata": {},
   "outputs": [],
   "source": [
    "wiki_tool=WikipediaQueryRun(api_wrapper=api_wrapper)"
   ]
  },
  {
   "cell_type": "markdown",
   "id": "0d6bc81f",
   "metadata": {},
   "source": [
    "### Exploring Wikipedia Tool Properties"
   ]
  },
  {
   "cell_type": "code",
   "execution_count": 6,
   "id": "8a450b4b",
   "metadata": {},
   "outputs": [
    {
     "data": {
      "text/plain": [
       "'wikipedia'"
      ]
     },
     "execution_count": 6,
     "metadata": {},
     "output_type": "execute_result"
    }
   ],
   "source": [
    "wiki_tool.name"
   ]
  },
  {
   "cell_type": "code",
   "execution_count": 7,
   "id": "0f46f450",
   "metadata": {},
   "outputs": [
    {
     "data": {
      "text/plain": [
       "'A wrapper around Wikipedia. Useful for when you need to answer general questions about people, places, companies, facts, historical events, or other subjects. Input should be a search query.'"
      ]
     },
     "execution_count": 7,
     "metadata": {},
     "output_type": "execute_result"
    }
   ],
   "source": [
    "wiki_tool.description"
   ]
  },
  {
   "cell_type": "code",
   "execution_count": 8,
   "id": "0aa4502c",
   "metadata": {},
   "outputs": [
    {
     "data": {
      "text/plain": [
       "{'query': {'description': 'query to look up on wikipedia',\n",
       "  'title': 'Query',\n",
       "  'type': 'string'}}"
      ]
     },
     "execution_count": 8,
     "metadata": {},
     "output_type": "execute_result"
    }
   ],
   "source": [
    "wiki_tool.args"
   ]
  },
  {
   "cell_type": "markdown",
   "id": "4d5dcdaa",
   "metadata": {},
   "source": [
    "### Wikipedia Tool Usage Examples"
   ]
  },
  {
   "cell_type": "code",
   "execution_count": 9,
   "id": "99477475",
   "metadata": {},
   "outputs": [
    {
     "data": {
      "text/plain": [
       "\"Page: Protests against Elon Musk\\nSummary: Starting in 2019, protests against businessman Elon Musk arose from various controversies, with the latest cases in 2025 reacting to Musk's involvement in the Department of Government Efficiency (DOGE) and Donald Trump's second administration. Protests appeared in Canada, the United Kingdom, Germany, and Portugal, as well as hundreds in the United States. While the coordinated protests were peaceful, news sources reported acts of vandalism and the discov\""
      ]
     },
     "execution_count": 9,
     "metadata": {},
     "output_type": "execute_result"
    }
   ],
   "source": [
    "wiki_tool.run({\"query\":\"elon musk vs trump\"})"
   ]
  },
  {
   "cell_type": "code",
   "execution_count": 10,
   "id": "bf3a63ed",
   "metadata": {},
   "outputs": [
    {
     "name": "stderr",
     "output_type": "stream",
     "text": [
      "/Users/kausik/Desktop/Agentic-AI/venv/lib/python3.12/site-packages/wikipedia/wikipedia.py:389: GuessedAtParserWarning: No parser was explicitly specified, so I'm using the best available HTML parser for this system (\"html.parser\"). This usually isn't a problem, but if you run this code on another system, or in a different virtual environment, it may use a different parser and behave differently.\n",
      "\n",
      "The code that caused this warning is on line 389 of the file /Users/kausik/Desktop/Agentic-AI/venv/lib/python3.12/site-packages/wikipedia/wikipedia.py. To get rid of this warning, pass the additional argument 'features=\"html.parser\"' to the BeautifulSoup constructor.\n",
      "\n",
      "  lis = BeautifulSoup(html).find_all('li')\n"
     ]
    },
    {
     "data": {
      "text/plain": [
       "\"Page: Royal Challengers Bengaluru\\nSummary: Royal Challengers Bengaluru, formerly known as Royal Challengers Bangalore, commonly known as RCB, is a professional T20 franchise cricket team based in Bengaluru, Karnataka, that competes in the Indian Premier League. Founded in 2008 by United Spirits, the team's home ground is M. Chinnaswamy Stadium. RCB won their first title in 2025. The team has also finished as the runners-up on three occasions: in 2009, 2011, and 2016. They have also qualified for\""
      ]
     },
     "execution_count": 10,
     "metadata": {},
     "output_type": "execute_result"
    }
   ],
   "source": [
    "wiki_tool.run(\"RCB\")"
   ]
  },
  {
   "cell_type": "markdown",
   "id": "ccadd906",
   "metadata": {},
   "source": [
    "## 2. YouTube Search Tool\n",
    "\n",
    "The YouTube Search tool allows you to search for videos on YouTube and retrieve video URLs and metadata."
   ]
  },
  {
   "cell_type": "code",
   "execution_count": 11,
   "id": "a79c6cc6",
   "metadata": {},
   "outputs": [],
   "source": [
    "from langchain_community.tools import YouTubeSearchTool"
   ]
  },
  {
   "cell_type": "code",
   "execution_count": 12,
   "id": "c35d1810",
   "metadata": {},
   "outputs": [],
   "source": [
    "tool=YouTubeSearchTool()"
   ]
  },
  {
   "cell_type": "markdown",
   "id": "b2cde470",
   "metadata": {},
   "source": [
    "### YouTube Tool Properties"
   ]
  },
  {
   "cell_type": "code",
   "execution_count": 13,
   "id": "3dfe8f0e",
   "metadata": {},
   "outputs": [
    {
     "data": {
      "text/plain": [
       "'youtube_search'"
      ]
     },
     "execution_count": 13,
     "metadata": {},
     "output_type": "execute_result"
    }
   ],
   "source": [
    "tool.name"
   ]
  },
  {
   "cell_type": "code",
   "execution_count": 14,
   "id": "31dd4376",
   "metadata": {},
   "outputs": [
    {
     "data": {
      "text/plain": [
       "'search for youtube videos associated with a person. the input to this tool should be a comma separated list, the first part contains a person name and the second a number that is the maximum number of video results to return aka num_results. the second part is optional'"
      ]
     },
     "execution_count": 14,
     "metadata": {},
     "output_type": "execute_result"
    }
   ],
   "source": [
    "tool.description"
   ]
  },
  {
   "cell_type": "markdown",
   "id": "edafa4a6",
   "metadata": {},
   "source": [
    "### YouTube Search Examples"
   ]
  },
  {
   "cell_type": "code",
   "execution_count": 15,
   "id": "ed05eed1",
   "metadata": {},
   "outputs": [
    {
     "data": {
      "text/plain": [
       "\"['https://www.youtube.com/watch?v=_V3zqVlCACQ&pp=ygUMc3Vubnkgc2F2aXRh', 'https://www.youtube.com/watch?v=s11yOKNXOQU&pp=ygUMc3Vubnkgc2F2aXRh']\""
      ]
     },
     "execution_count": 15,
     "metadata": {},
     "output_type": "execute_result"
    }
   ],
   "source": [
    "tool.run(\"sunny savita\")"
   ]
  },
  {
   "cell_type": "code",
   "execution_count": 16,
   "id": "7ab2dde0",
   "metadata": {},
   "outputs": [
    {
     "data": {
      "text/plain": [
       "\"['https://www.youtube.com/watch?v=JxgmHe2NyeY&pp=ygUKa3Jpc2ggbmFpa9IHCQmyCQGHKiGM7w%3D%3D', 'https://www.youtube.com/watch?v=p4pHsuEf4Ms&pp=ygUKa3Jpc2ggbmFpa9IHCQmyCQGHKiGM7w%3D%3D']\""
      ]
     },
     "execution_count": 16,
     "metadata": {},
     "output_type": "execute_result"
    }
   ],
   "source": [
    "tool.run(\"krish naik\")"
   ]
  },
  {
   "cell_type": "markdown",
   "id": "75ef387f",
   "metadata": {},
   "source": [
    "## 3. Tavily Search Tool\n",
    "\n",
    "Tavily is a web search API that provides real-time search results. It's useful for getting current information from the web."
   ]
  },
  {
   "cell_type": "code",
   "execution_count": 17,
   "id": "21d809df",
   "metadata": {},
   "outputs": [],
   "source": [
    "from langchain_community.tools.tavily_search import TavilySearchResults"
   ]
  },
  {
   "cell_type": "markdown",
   "id": "61770b21",
   "metadata": {},
   "source": [
    "### Setting up Tavily API Key\n",
    "\n",
    "You need a Tavily API key to use this tool. Sign up at [tavily.com](https://tavily.com) to get your API key."
   ]
  },
  {
   "cell_type": "code",
   "execution_count": 41,
   "id": "16ed7cac",
   "metadata": {},
   "outputs": [],
   "source": [
    "import os\n",
    "from dotenv import load_dotenv\n",
    "load_dotenv()\n",
    "API_KEY=os.getenv(\"TAVILY_API_KEY\")"
   ]
  },
  {
   "cell_type": "code",
   "execution_count": 42,
   "id": "f745e41b",
   "metadata": {},
   "outputs": [],
   "source": [
    "tool=TavilySearchResults(tavily_api_key=API_KEY)"
   ]
  },
  {
   "cell_type": "markdown",
   "id": "c72ff3b6",
   "metadata": {},
   "source": [
    "### Tavily Search Example"
   ]
  },
  {
   "cell_type": "code",
   "execution_count": 43,
   "id": "42cf9b63",
   "metadata": {},
   "outputs": [
    {
     "data": {
      "text/plain": [
       "[{'title': 'NBC News - Breaking News & Top Stories - Latest World, US ...',\n",
       "  'url': 'https://www.nbcnews.com/',\n",
       "  'content': '![](https://media-cldnry.s-nbcnews.com/image/upload/t_focal-760x428,f_auto,q_auto:best/mpx/2704722219/2025_06/1749468961237_tdy_news_7a_bradley_israel_gaza_250609_1920x1080-34p7z1.jpg)\\n\\n## Meet the Press NOW\\n\\n## LATEST NEWS\\n\\n## [Republicans focus on trans athletes in their early attacks against Jon Ossoff in Georgia](https://www.nbcnews.com/politics/2026-election/republicans-focus-trans-athletes-early-attacks-jon-ossoff-georgia-rcna211005) [...] ## [Trump travel ban hits immigrant family coming to U.S. amid bloody civil war in Myanmar](https://www.nbcnews.com/news/asian-america/trump-travel-ban-myanmar-civil-war-visa-rcna211500)\\n\\n## [Oklahoma inmate Richard Glossip to face new murder trial but without death penalty](https://www.nbcnews.com/news/us-news/oklahoma-inmate-richard-glossip-face-new-murder-trial-death-penalty-rcna202170)',\n",
       "  'score': 0.4501424},\n",
       " {'title': 'Fox News - Breaking News Updates | Latest News Headlines ...',\n",
       "  'url': 'https://www.foxnews.com/',\n",
       "  'content': \"### [Trump rejects Iran's counter-proposal in nuclear negotiations: 'it's just not acceptable'](//www.foxnews.com/world/trump-rejects-irans-counter-proposal-nuclear-negotiations-its-just-not-acceptable)\\n\\n### [Russia launches biggest drone barrage of the Ukraine war, Kyiv says](//www.foxnews.com/world/russia-launches-biggest-drone-barrage-ukraine-war-kyiv-says) [...] ### [US Marines to deploy to Los Angeles to help quell anti-immigration riots](//www.foxnews.com/politics/us-marines-deploy-los-angeles-help-quell-anti-immigration-riots)\\n\\n### [Trump admin sanctions El Chapo's children, violent fentanyl-trafficking cartel arm Los Chapitos](//www.foxnews.com/politics/trump-admin-sanctions-el-chapos-children-violent-fentanyl-trafficking-cartel-arm-los-chapitos) [...] ### [Norway joins the tourist tax club as destinations in Europe fight back against visitors](//www.foxnews.com/travel/norway-joins-tourist-tax-club-destinations-europe-fight-back-visitors)\\n\\n### [Hotel toiletries targeted by Maine lawmakers in latest environmental push](//www.foxnews.com/travel/hotel-toiletries-targeted-maine-lawmakers-latest-environmental-push)\",\n",
       "  'score': 0.4250568},\n",
       " {'title': 'ABC News - Breaking News, Latest News and Videos',\n",
       "  'url': 'https://abcnews.go.com/',\n",
       "  'content': \"## Colombian presidential candidate in critical condition after assassination attempt\\n\\n### Japan’s Osaka Expo halts water shows over high bacteria levels\\n\\n### NATO chief Rutte calls for 400% increase in the alliance's air and missile defense\\n\\n### Explosion at a US air base in southern Japan injures 4 Japanese soldiers\\n\\n### Good Morning America [...] ## [Las Vegas shooting](https://abcnews.go.com/US/las-vegas-police-respond-shooting-strip/story?id=122644094)\\n\\n## [Russia-Ukraine](https://abcnews.go.com/International/polish-allied-planes-briefly-scramble-amid-russian-targeting/story?id=122644087)\\n\\n## [Washington manhunt](https://abcnews.go.com/US/washington-girls-father-wanted-for-murder-cause-of-death/story?id=122661984)\\n\\n![](https://i.abcnewsfe.com/a/ebfa5dda-0d5a-486c-a572-12b6d8d198fd/2218812278_1749486574028_hpMain_16x9.jpg) [...] ## Apple unveils new operating system and AI capabilities\\n\\n### Nintendo's Switch 2 soups up the graphics, but does it deliver the games?\\n\\n### New Rolls-Royce chief on why the company is not interested building more cars\\n\\n### What does the Trump-Musk feud mean for Tesla stock? Experts weigh in.\\n\\n### International\\n\\n![](https://i.abcnewsfe.com/a/7375cc39-5db5-45aa-a9a2-904a8519be26/wirestory_0ac554c2a333a64b5e0dff996d25c13d_16x9.jpg)\",\n",
       "  'score': 0.42190963},\n",
       " {'title': \"CBS News | Breaking news, top stories & today's latest ...\",\n",
       "  'url': 'https://www.cbsnews.com/',\n",
       "  'content': 'A Japanese lander crash-landed on the moon in its second straight failure to touch down on the lunar surface. CBS News space consultant Bill Harwood has more on the mission, and President Trump and Elon Musk feud\\'s potential impact on the U.S. space program. [...] #### Trump walks back L.A. insurrection claim\\n\\nPresident Trump took questions before an \"Invest America\" event at the White House. Mr. Trump commented on reports of activist Greta Thunberg\\'s detention while she was headed to Gaza to distribute aid. Also, Mr. Trump commented on allegations of Elon Musk\\'s drug use while working for the White House, and he clarified comments about protests in Los Angeles as criticism grows over his decision to activate the National Guard. [...] #### New photos released of dad accused of killing 3 daughters\\n\\nAuthorities released new images of Travis Decker as they continue their search for the 32-year-old man accused of killing his three young daughters in Washington state 10 days ago.',\n",
       "  'score': 0.37195808},\n",
       " {'title': 'USA TODAY - Breaking News and Latest News Today',\n",
       "  'url': 'https://www.usatoday.com/',\n",
       "  'content': \"The passing of the penny: What to know · Alex Cooper docuseries details alleged sexual harassment by coach · Incendiary: President Trump's Guard deployment in LA\",\n",
       "  'score': 0.35797194}]"
      ]
     },
     "execution_count": 43,
     "metadata": {},
     "output_type": "execute_result"
    }
   ],
   "source": [
    "tool.invoke({\"query\":\"what's the latest news?\"})"
   ]
  },
  {
   "cell_type": "markdown",
   "id": "f10ebcb6",
   "metadata": {},
   "source": [
    "### Installing Required Dependencies\n",
    "\n",
    "Some tools require additional packages to be installed."
   ]
  },
  {
   "cell_type": "code",
   "execution_count": null,
   "id": "377e6c26",
   "metadata": {},
   "outputs": [],
   "source": [
    "! pip install youtube-search-python\n",
    "! pip install youtube-search\n"
   ]
  },
  {
   "cell_type": "markdown",
   "id": "c1e3cd34",
   "metadata": {},
   "source": [
    "## 4. Custom Tools\n",
    "\n",
    "LangChain allows you to create custom tools using the `@tool` decorator. This is useful when you need specific functionality that isn't available in existing tools."
   ]
  },
  {
   "cell_type": "markdown",
   "id": "da128c3a",
   "metadata": {},
   "source": [
    "### Basic Function (Not a Tool Yet)\n",
    "\n",
    "First, let's create a simple function that multiplies two numbers:"
   ]
  },
  {
   "cell_type": "code",
   "execution_count": 21,
   "id": "0058a3af",
   "metadata": {},
   "outputs": [],
   "source": [
    "def multiply(a:int,b:int)->int:\n",
    "    return a*b"
   ]
  },
  {
   "cell_type": "code",
   "execution_count": 22,
   "id": "2fd727eb",
   "metadata": {},
   "outputs": [
    {
     "data": {
      "text/plain": [
       "200"
      ]
     },
     "execution_count": 22,
     "metadata": {},
     "output_type": "execute_result"
    }
   ],
   "source": [
    "multiply(10,20)"
   ]
  },
  {
   "cell_type": "markdown",
   "id": "3287ded7",
   "metadata": {},
   "source": [
    "### Limitations of Basic Functions\n",
    "\n",
    "Regular functions don't have `.run()` or `.invoke()` methods that LangChain agents expect:"
   ]
  },
  {
   "cell_type": "code",
   "execution_count": 23,
   "id": "913cc79c",
   "metadata": {},
   "outputs": [
    {
     "ename": "AttributeError",
     "evalue": "'function' object has no attribute 'run'",
     "output_type": "error",
     "traceback": [
      "\u001b[31m---------------------------------------------------------------------------\u001b[39m",
      "\u001b[31mAttributeError\u001b[39m                            Traceback (most recent call last)",
      "\u001b[36mCell\u001b[39m\u001b[36m \u001b[39m\u001b[32mIn[23]\u001b[39m\u001b[32m, line 1\u001b[39m\n\u001b[32m----> \u001b[39m\u001b[32m1\u001b[39m \u001b[43mmultiply\u001b[49m\u001b[43m.\u001b[49m\u001b[43mrun\u001b[49m(\u001b[32m10\u001b[39m,\u001b[32m20\u001b[39m)\n",
      "\u001b[31mAttributeError\u001b[39m: 'function' object has no attribute 'run'"
     ]
    }
   ],
   "source": [
    "multiply.run(10,20)"
   ]
  },
  {
   "cell_type": "code",
   "execution_count": 24,
   "id": "c8864bb2",
   "metadata": {},
   "outputs": [
    {
     "ename": "AttributeError",
     "evalue": "'function' object has no attribute 'invoke'",
     "output_type": "error",
     "traceback": [
      "\u001b[31m---------------------------------------------------------------------------\u001b[39m",
      "\u001b[31mAttributeError\u001b[39m                            Traceback (most recent call last)",
      "\u001b[36mCell\u001b[39m\u001b[36m \u001b[39m\u001b[32mIn[24]\u001b[39m\u001b[32m, line 1\u001b[39m\n\u001b[32m----> \u001b[39m\u001b[32m1\u001b[39m \u001b[43mmultiply\u001b[49m\u001b[43m.\u001b[49m\u001b[43minvoke\u001b[49m(\u001b[32m10\u001b[39m,\u001b[32m20\u001b[39m)\n",
      "\u001b[31mAttributeError\u001b[39m: 'function' object has no attribute 'invoke'"
     ]
    }
   ],
   "source": [
    "multiply.invoke(10,20)"
   ]
  },
  {
   "cell_type": "markdown",
   "id": "6d1b15c6",
   "metadata": {},
   "source": [
    "### Converting Functions to Tools\n",
    "\n",
    "Use the `@tool` decorator to convert a regular function into a LangChain tool:"
   ]
  },
  {
   "cell_type": "code",
   "execution_count": 25,
   "id": "3a3665bc",
   "metadata": {},
   "outputs": [],
   "source": [
    "from langchain.agents import tool\n",
    "@tool\n",
    "def multiply(a:int,b:int)->int:\n",
    "    '''this tool is for the multiplication'''\n",
    "    return a*b"
   ]
  },
  {
   "cell_type": "markdown",
   "id": "cff1fb51",
   "metadata": {},
   "source": [
    "### Using the Tool\n",
    "\n",
    "Now the function works as a proper LangChain tool with dictionary input:"
   ]
  },
  {
   "cell_type": "code",
   "execution_count": 26,
   "id": "50306c92",
   "metadata": {},
   "outputs": [
    {
     "data": {
      "text/plain": [
       "200"
      ]
     },
     "execution_count": 26,
     "metadata": {},
     "output_type": "execute_result"
    }
   ],
   "source": [
    "multiply.invoke({\"a\":10,\"b\":20})"
   ]
  },
  {
   "cell_type": "markdown",
   "id": "b2be016b",
   "metadata": {},
   "source": [
    "### Tool Properties\n",
    "\n",
    "Tools have several useful properties for introspection:"
   ]
  },
  {
   "cell_type": "code",
   "execution_count": 27,
   "id": "5ca800ff",
   "metadata": {},
   "outputs": [
    {
     "data": {
      "text/plain": [
       "'multiply'"
      ]
     },
     "execution_count": 27,
     "metadata": {},
     "output_type": "execute_result"
    }
   ],
   "source": [
    "multiply.name"
   ]
  },
  {
   "cell_type": "code",
   "execution_count": 28,
   "id": "8978a8c9",
   "metadata": {},
   "outputs": [
    {
     "data": {
      "text/plain": [
       "'this tool is for the multiplication'"
      ]
     },
     "execution_count": 28,
     "metadata": {},
     "output_type": "execute_result"
    }
   ],
   "source": [
    "multiply.description"
   ]
  },
  {
   "cell_type": "code",
   "execution_count": 29,
   "id": "6a41b532",
   "metadata": {},
   "outputs": [
    {
     "data": {
      "text/plain": [
       "{'a': {'title': 'A', 'type': 'integer'},\n",
       " 'b': {'title': 'B', 'type': 'integer'}}"
      ]
     },
     "execution_count": 29,
     "metadata": {},
     "output_type": "execute_result"
    }
   ],
   "source": [
    "multiply.args"
   ]
  },
  {
   "cell_type": "markdown",
   "id": "a97a227e",
   "metadata": {},
   "source": [
    "### Another Custom Tool Example\n",
    "\n",
    "Let's create another tool that calculates the length of a word:"
   ]
  },
  {
   "cell_type": "code",
   "execution_count": 30,
   "id": "6de152ea",
   "metadata": {},
   "outputs": [],
   "source": [
    "def get_word_length(word:str)->int:\n",
    "    return len(word)"
   ]
  },
  {
   "cell_type": "markdown",
   "id": "be026483",
   "metadata": {},
   "source": [
    "Testing the basic function:"
   ]
  },
  {
   "cell_type": "code",
   "execution_count": 31,
   "id": "a0fffdcf",
   "metadata": {},
   "outputs": [
    {
     "data": {
      "text/plain": [
       "12"
      ]
     },
     "execution_count": 31,
     "metadata": {},
     "output_type": "execute_result"
    }
   ],
   "source": [
    "get_word_length(\"sunny savita\")"
   ]
  },
  {
   "cell_type": "code",
   "execution_count": 32,
   "id": "6a65a42f",
   "metadata": {},
   "outputs": [
    {
     "data": {
      "text/plain": [
       "12"
      ]
     },
     "execution_count": 32,
     "metadata": {},
     "output_type": "execute_result"
    }
   ],
   "source": [
    "get_word_length(\"naredra modi\")"
   ]
  },
  {
   "cell_type": "markdown",
   "id": "953a40bc",
   "metadata": {},
   "source": [
    "Converting to a tool with proper documentation:"
   ]
  },
  {
   "cell_type": "code",
   "execution_count": 33,
   "id": "93dccd5e",
   "metadata": {},
   "outputs": [],
   "source": [
    "@tool\n",
    "def get_word_length(word:str)->int:\n",
    "    \"\"\"this funtion is calculating a length of the word\"\"\"\n",
    "    return len(word)"
   ]
  },
  {
   "cell_type": "markdown",
   "id": "a18f2c61",
   "metadata": {},
   "source": [
    "Exploring the tool properties:"
   ]
  },
  {
   "cell_type": "code",
   "execution_count": 34,
   "id": "1292db4b",
   "metadata": {},
   "outputs": [
    {
     "data": {
      "text/plain": [
       "'get_word_length'"
      ]
     },
     "execution_count": 34,
     "metadata": {},
     "output_type": "execute_result"
    }
   ],
   "source": [
    "get_word_length.name"
   ]
  },
  {
   "cell_type": "code",
   "execution_count": 35,
   "id": "309a3ab7",
   "metadata": {},
   "outputs": [
    {
     "data": {
      "text/plain": [
       "'this funtion is calculating a length of the word'"
      ]
     },
     "execution_count": 35,
     "metadata": {},
     "output_type": "execute_result"
    }
   ],
   "source": [
    "get_word_length.description"
   ]
  },
  {
   "cell_type": "code",
   "execution_count": 36,
   "id": "375b13d8",
   "metadata": {},
   "outputs": [
    {
     "data": {
      "text/plain": [
       "{'word': {'title': 'Word', 'type': 'string'}}"
      ]
     },
     "execution_count": 36,
     "metadata": {},
     "output_type": "execute_result"
    }
   ],
   "source": [
    "get_word_length.args"
   ]
  },
  {
   "cell_type": "markdown",
   "id": "1760cddd",
   "metadata": {},
   "source": [
    "### Using the Word Length Tool\n",
    "\n",
    "The tool can be called in multiple ways:"
   ]
  },
  {
   "cell_type": "code",
   "execution_count": 37,
   "id": "fcdfeefe",
   "metadata": {},
   "outputs": [
    {
     "name": "stderr",
     "output_type": "stream",
     "text": [
      "/var/folders/bt/crg5s2yn4199sy7_d3r0f0gm0000gn/T/ipykernel_27950/4215584293.py:1: LangChainDeprecationWarning: The method `BaseTool.__call__` was deprecated in langchain-core 0.1.47 and will be removed in 1.0. Use :meth:`~invoke` instead.\n",
      "  get_word_length(\"sunny\")\n"
     ]
    },
    {
     "data": {
      "text/plain": [
       "5"
      ]
     },
     "execution_count": 37,
     "metadata": {},
     "output_type": "execute_result"
    }
   ],
   "source": [
    "get_word_length(\"sunny\")"
   ]
  },
  {
   "cell_type": "code",
   "execution_count": 38,
   "id": "da04955e",
   "metadata": {},
   "outputs": [
    {
     "data": {
      "text/plain": [
       "5"
      ]
     },
     "execution_count": 38,
     "metadata": {},
     "output_type": "execute_result"
    }
   ],
   "source": [
    "get_word_length.invoke(\"sunny\")"
   ]
  },
  {
   "cell_type": "markdown",
   "id": "67d8e089",
   "metadata": {},
   "source": [
    "### Placeholder Tool Example\n",
    "\n",
    "You can also create placeholder tools for future implementation:"
   ]
  },
  {
   "cell_type": "code",
   "execution_count": 39,
   "id": "87bb9160",
   "metadata": {},
   "outputs": [],
   "source": [
    "@tool\n",
    "def call_gamil_api(args):\n",
    "    \"\"\"this is my gamil api calling funtion\"\"\"\n",
    "    pass"
   ]
  },
  {
   "cell_type": "markdown",
   "id": "785dfa9b",
   "metadata": {},
   "source": [
    "## Conclusion\n",
    "\n",
    "This notebook demonstrated various types of tools in LangChain:\n",
    "\n",
    "1. **Pre-built tools** like Wikipedia, YouTube Search, and Tavily Search\n",
    "2. **Custom tools** created with the `@tool` decorator\n",
    "\n",
    "### Key Takeaways:\n",
    "\n",
    "- Tools extend the capabilities of LangChain agents by providing access to external APIs and services\n",
    "- Pre-built tools are ready to use with minimal configuration\n",
    "- Custom tools can be created from any Python function using the `@tool` decorator\n",
    "- Tools have standardized properties (`name`, `description`, `args`) that help agents understand how to use them\n",
    "- Proper documentation in tool docstrings is crucial for agent understanding\n",
    "\n",
    "### Next Steps:\n",
    "\n",
    "- Combine multiple tools in LangGraph workflows\n",
    "- Create more sophisticated custom tools\n",
    "- Use tools with different LangChain agents and chains"
   ]
  }
 ],
 "metadata": {
  "kernelspec": {
   "display_name": "venv",
   "language": "python",
   "name": "python3"
  },
  "language_info": {
   "codemirror_mode": {
    "name": "ipython",
    "version": 3
   },
   "file_extension": ".py",
   "mimetype": "text/x-python",
   "name": "python",
   "nbconvert_exporter": "python",
   "pygments_lexer": "ipython3",
   "version": "3.12.1"
  }
 },
 "nbformat": 4,
 "nbformat_minor": 5
}
